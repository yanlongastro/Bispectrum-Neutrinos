{
 "cells": [
  {
   "cell_type": "code",
   "execution_count": 2,
   "metadata": {},
   "outputs": [
    {
     "data": {
      "text/plain": [
       "<module 'galsurvey' from 'C:\\\\Users\\\\yanlo\\\\OneDrive - California Institute of Technology\\\\2019-Bispectrum-Neutrino\\\\Notebooks\\\\galsurvey.py'>"
      ]
     },
     "execution_count": 2,
     "metadata": {},
     "output_type": "execute_result"
    }
   ],
   "source": [
    "from importlib import reload\n",
    "import galsurvey\n",
    "import numpy as np\n",
    "from astropy.cosmology import FlatLambdaCDM\n",
    "import matplotlib.pyplot as plt\n",
    "\n",
    "reload(galsurvey)"
   ]
  },
  {
   "cell_type": "code",
   "execution_count": 3,
   "metadata": {},
   "outputs": [],
   "source": [
    "import matplotlib\n",
    "matplotlib.rcParams['text.usetex'] = True\n",
    "#matplotlib.rcParams['text.latex.unicode'] = True\n",
    "matplotlib.rcParams['xtick.direction'] = 'in'\n",
    "matplotlib.rcParams['ytick.direction'] = 'in'\n",
    "matplotlib.rcParams['xtick.top'] = True\n",
    "matplotlib.rcParams['ytick.right'] = True\n",
    "matplotlib.rcParams['font.family'] = 'serif'\n",
    "#matplotlib.rcParams['font.serif'] = \"Times New Roman\"\n",
    "#matplotlib.rcParams.update({'font.size': 10})\n",
    "matplotlib.rcParams[\"figure.dpi\"] = 100"
   ]
  },
  {
   "cell_type": "code",
   "execution_count": 4,
   "metadata": {},
   "outputs": [],
   "source": [
    "omega_m = 0.307494\n",
    "omega_bh2 = 0.022300\n",
    "omega_ch2 = 0.118800\n",
    "omega_l = 1 - omega_m\n",
    "h = np.sqrt((omega_bh2 + omega_ch2) / omega_m)\n",
    "omega_b = omega_bh2/h**2\n",
    "sf = 99.91 #from camb\n",
    "#sf = 109.5"
   ]
  },
  {
   "cell_type": "code",
   "execution_count": 5,
   "metadata": {},
   "outputs": [],
   "source": [
    "cosmo_params = {\n",
    "    'Omega_m': omega_m,\n",
    "    'Omega_L': omega_l,\n",
    "    'Omega_b': omega_b,\n",
    "    'h': h,\n",
    "    's_f': sf,\n",
    "    'sigma8_0': 0.9\n",
    "}"
   ]
  },
  {
   "cell_type": "code",
   "execution_count": 6,
   "metadata": {},
   "outputs": [
    {
     "name": "stdout",
     "output_type": "stream",
     "text": [
      "Omega_m: 0.307494, Omega_L: 0.6925060000000001, Omega_b: 0.04859756343019135, h: 0.6773999868566161, s_f: 99.91, sigma8_0: 0.9, astropy_cosmology: FlatLambdaCDM(H0=67.7 km / (Mpc s), Om0=0.307, Tcmb0=0 K, Neff=3.04, m_nu=None, Ob0=None), D0: 0.7825237557360316\n"
     ]
    }
   ],
   "source": [
    "cosmo = galsurvey.cosmology(cosmo_params)\n",
    "attrs = vars(cosmo)\n",
    "print(', '.join(\"%s: %s\" % item for item in attrs.items()))"
   ]
  },
  {
   "cell_type": "code",
   "execution_count": 7,
   "metadata": {},
   "outputs": [],
   "source": [
    "ps_file='planck_camb_56106182_matterpower_z0.dat'\n",
    "ps_nw_file='planck_camb_56106182_matterpower_smooth_z0.dat'\n",
    "ps = galsurvey.ps_interpolation(ps_file, ps_nw_file)"
   ]
  },
  {
   "cell_type": "code",
   "execution_count": 8,
   "metadata": {},
   "outputs": [],
   "source": [
    "survey_geo = {\n",
    "    'f_sky': 0.5,\n",
    "    'N_g': 1e100,\n",
    "    'z_min': 0.1,\n",
    "    'z_max': 0.2,\n",
    "    'dz': 0.1\n",
    "}\n",
    "survey_params = {\n",
    "    'Sigma_0': 16.6,\n",
    "    'reconstruction_rate': 0.5,\n",
    "    'b_0': 0.95,\n",
    "    'survey_type': 'spectroscopic'\n",
    "}\n",
    "\n",
    "ig_full = ['RSD', 'damping', 'FOG', 'galactic_bias', 'reconstruction']\n",
    "ig_none = []\n",
    "ingredients = ig_full\n",
    "\n",
    "\n",
    "sf_p18 = 97.288\n",
    "dsf_p18 = 0.799344\n",
    "pisf = np.pi/sf_p18\n",
    "\n",
    "priors = {\n",
    "    'alpha_prior': {\n",
    "        'mean': sf_p18/sf,\n",
    "        'stdev': dsf_p18/sf\n",
    "    },\n",
    "    'beta_prior': {\n",
    "        'mean': 1.0,\n",
    "        'stdev': 1e100 # to be constrained\n",
    "    }\n",
    "}\n",
    "\n",
    "priors_plk = {\n",
    "    'alpha_prior': {\n",
    "        'mean': sf_p18/sf,\n",
    "        'stdev': dsf_p18/sf\n",
    "    },\n",
    "    'beta_prior': {\n",
    "        'mean': 1.0,\n",
    "        'stdev': 1e100 # to be constrained\n",
    "    }\n",
    "}"
   ]
  },
  {
   "cell_type": "code",
   "execution_count": 9,
   "metadata": {},
   "outputs": [],
   "source": [
    "svy_m = galsurvey.survey(cosmo, ps, survey_geo, survey_params, ['galactic_bias'], priors)\n",
    "svy = galsurvey.survey(cosmo, ps, survey_geo, survey_params, ig_full, priors)"
   ]
  },
  {
   "cell_type": "code",
   "execution_count": 10,
   "metadata": {},
   "outputs": [],
   "source": [
    "region_bs_0={\n",
    "    'coordinate': 'cartesian',\n",
    "    'bounds': ((0.01, 0.2),\n",
    "               (0.01, 0.2),\n",
    "               (0.01, 0.2),\n",
    "               (-1, 1),\n",
    "               (-1, 1))\n",
    "}\n",
    "regions_bs = [region_bs_0]"
   ]
  },
  {
   "cell_type": "code",
   "execution_count": 11,
   "metadata": {},
   "outputs": [],
   "source": [
    "region_ps_0={\n",
    "    'k_min': 0.01,\n",
    "    'k_max': 1.0,\n",
    "    'mu_min': -1.0,\n",
    "    'mu_max': 1.0\n",
    "}\n",
    "regions_ps = [region_ps_0]"
   ]
  },
  {
   "cell_type": "code",
   "execution_count": 109,
   "metadata": {},
   "outputs": [
    {
     "name": "stdout",
     "output_type": "stream",
     "text": [
      "0.20\n",
      "0.58\n",
      "0.96\n",
      "1.34\n",
      "1.72\n",
      "2.10\n",
      "2.48\n",
      "2.86\n",
      "3.24\n",
      "3.62\n",
      "4.00\n"
     ]
    }
   ],
   "source": [
    "zlst = np.linspace(0.2, 4, num=11)\n",
    "Nglst = [1e6, 1e7, 1e8, 1e100]\n",
    "# slst = np.zeros((len(Nglst), len(zlst)))\n",
    "div_k, div_mu = 20, 10\n",
    "fisherlst_ps = np.zeros((len(Nglst), len(zlst), 2, 2))\n",
    "fisherlst_bs = np.zeros((len(Nglst), len(zlst), 2, 2))\n",
    "fisherlst_bs_rsd = np.zeros((len(Nglst), len(zlst), 2, 2))\n",
    "for j in range(len(zlst)):\n",
    "    z = zlst[j]\n",
    "    print('%.2f'%(z))\n",
    "    survey_geo['z_max']=z\n",
    "    for i in range(len(Nglst)):\n",
    "        survey_geo['N_g']=Nglst[i]\n",
    "        svy_m = galsurvey.survey(cosmo, ps, survey_geo, survey_params, ['galactic_bias'], priors)\n",
    "        svy = galsurvey.survey(cosmo, ps, survey_geo, survey_params, ig_full, priors)\n",
    "        #svy.cosmo = cosmo\n",
    "        #svy.ps = ps\n",
    "        #svy.get_ready()\n",
    "        fisherlst_ps[i,j] = svy.fisher_matrix_ps(regions_ps, div_k=20, div_mu=10, addprior=False)\n",
    "        fisherlst_bs[i,j] = svy_m.fisher_matrix_bs(regions_bs, divs=(10, 10, 10, 10, 10), addprior=False, unique=True)\n",
    "        fisherlst_bs_rsd[i,j] = svy.fisher_matrix_bs(regions_bs, divs=(10, 10, 10, 10, 10), addprior=False, unique=True)"
   ]
  },
  {
   "cell_type": "code",
   "execution_count": 110,
   "metadata": {},
   "outputs": [],
   "source": [
    "prior = np.array([[1/(dsf_p18/sf)**2, 0],\n",
    "                 [0, 1e-100]])\n",
    "\n",
    "def get_constraint(fisherlst, addprior=False, single=False):\n",
    "    alst = np.zeros(len(fisherlst))\n",
    "    blst = np.zeros(len(fisherlst))\n",
    "    alst_s = np.zeros(len(fisherlst))\n",
    "    blst_s = np.zeros(len(fisherlst))\n",
    "    \n",
    "    if addprior:\n",
    "        pr = prior\n",
    "    else:\n",
    "        pr = np.array([[1e-100,0],\n",
    "                      [0,1e-100]])\n",
    "        \n",
    "    for j in range(len(fisherlst)):\n",
    "        if not single:\n",
    "            alst[j] = np.sqrt(np.linalg.inv(fisherlst[j]+pr)[0,0])\n",
    "            blst[j] = np.sqrt(np.linalg.inv(fisherlst[j]+pr)[1,1])\n",
    "        if single:\n",
    "            alst[j] = 1/np.sqrt(fisherlst[j][0,0])\n",
    "            blst[j] = 1/np.sqrt(fisherlst[j][1,1])\n",
    "    return alst, blst\n",
    "    "
   ]
  },
  {
   "cell_type": "code",
   "execution_count": 116,
   "metadata": {},
   "outputs": [],
   "source": [
    "Ng_labels = [ r'$N_g=10^6$', r'$N_g=10^7$', r'$N_g=10^8$', r'\\rm CVL']\n",
    "prior_labels = [r'w/ $\\alpha$ prior', r'w/o $\\alpha$ prior', 'Single']\n",
    "sigma_labels = ['alst', 'blst']\n",
    "cons_labels = ['PS', 'BiS-no-RSD', 'BiS']\n",
    "fisherlsts = [fisherlst_ps, fisherlst_bs, fisherlst_bs_rsd]\n",
    "conslst = {}\n",
    "\n",
    "for kk in range(len(cons_labels)):\n",
    "    cons_label = cons_labels[kk]\n",
    "    cons = conslst[cons_label] = {}\n",
    "    fisherlst = fisherlsts[kk]\n",
    "    for i in range(len(Nglst)):\n",
    "        ng_label = Ng_labels[i]\n",
    "        cons[ng_label] = {}\n",
    "        for j in range(len(prior_labels)):\n",
    "            prior_label = prior_labels[j]\n",
    "            cons[ng_label][prior_label] = {}\n",
    "            if prior_label == '+ prior':\n",
    "                addprior = True\n",
    "            else:\n",
    "                addprior = False\n",
    "            if prior_label == 'Single':\n",
    "                single = True\n",
    "            else:\n",
    "                single = False\n",
    "            \n",
    "            sigmas = get_constraint(fisherlst[i], addprior=addprior, single=single)\n",
    "            for k in range(len(sigma_labels)):\n",
    "                sigma_label = sigma_labels[k]\n",
    "                cons[ng_label][prior_label][sigma_label] = sigmas[k]"
   ]
  },
  {
   "cell_type": "code",
   "execution_count": 117,
   "metadata": {},
   "outputs": [],
   "source": [
    "Ng_labels_full = [ r'$N_g=10^6$', r'$N_g=10^7$', r'$N_g=10^8$', r'\\rm CVL']\n",
    "prior_labels_full = [r'w/ $\\alpha$ prior', r'w/o $\\alpha$ prior', 'Single']\n",
    "sigma_labels_full = ['alst', 'blst',]\n",
    "cons_labels_full = ['PS', 'BiS-no-RSD', 'BiS']\n",
    "\n",
    "\n",
    "Ng_labels = [ r'$N_g=10^6$', r'$N_g=10^7$', r'$N_g=10^8$', r'\\rm CVL']\n",
    "prior_labels = ['+ prior', '- prior', 'Single']\n",
    "sigma_labels = ['alst', 'blst', ]\n",
    "cons_labels = ['PS', 'BS']\n",
    "suffix = '_all.pdf'\n",
    "\n",
    "\n",
    "Ng_labels = [r'\\rm CVL', r'$N_g=10^7$']\n",
    "prior_labels = ['+ prior', '- prior']\n",
    "sigma_labels = ['alst', 'blst']\n",
    "cons_labels = ['PS', 'BS']\n",
    "suffix = '_ps_bs_cvl_Ng.pdf'\n",
    "\n",
    "\n",
    "\n",
    "# Ng_labels = [ r'$N_g=10^6$', r'$N_g=10^7$', r'$N_g=10^8$', r'\\rm CVL']\n",
    "# prior_labels = ['+ prior', '- prior']\n",
    "# sigma_labels = ['alst', 'blst']\n",
    "# cons_labels = ['PS']\n",
    "# suffix = '_ps.pdf'\n",
    "\n",
    "\n",
    "# Ng_labels = [ r'$N_g=10^6$', r'$N_g=10^7$', r'$N_g=10^8$', r'\\rm CVL']\n",
    "# prior_labels = ['+ prior', '- prior']\n",
    "# sigma_labels = ['alst', 'blst']\n",
    "# cons_labels = ['BS']\n",
    "# suffix = '_bs.pdf'\n",
    "\n",
    "# Ng_labels = [ r'$N_g=10^6$', r'$N_g=10^7$', r'$N_g=10^8$', r'\\rm CVL']\n",
    "# prior_labels = ['+ prior', '- prior']\n",
    "# sigma_labels = ['alst', 'blst']\n",
    "# cons_labels = ['PS']\n",
    "# suffix = '_ps_prior.pdf'\n",
    "\n",
    "\n",
    "Ng_labels = [ r'$N_g=10^7$',  r'\\rm CVL']\n",
    "prior_labels = [r'w/ $\\alpha$ prior', r'w/o $\\alpha$ prior']\n",
    "sigma_labels = ['alst', 'blst']\n",
    "cons_labels = ['BiS-no-RSD', 'BiS']\n",
    "suffix = '_bs_bsrsd.pdf'\n",
    "\n",
    "\n",
    "\n",
    "def b2n(x):\n",
    "    return 4.4/1.45 - 4.4* (-x + 1)/(2.45 - (-x + 1))\n",
    "def n2b(y):\n",
    "    t = 4.4/1.45 -y\n",
    "    return 1 - 2.45*t/(t+4.4)\n",
    "\n",
    "\n",
    "NUM_COLORS = len(cons_labels_full)*len(Ng_labels_full)\n",
    "cm = plt.get_cmap('tab20')\n",
    "colors=[cm(1.*i/NUM_COLORS) for i in range(NUM_COLORS)]\n",
    "#colors = ['tab:blue', 'tab:orange', 'tab:green', 'tab:red', 'tab:purple', 'tab:brown', 'tab:pink', 'tab:gray', 'tab:olive', 'tab:cyan']\n",
    "\n",
    "\n",
    "def get_color(cons_label, ng_label):\n",
    "    i = cons_labels_full.index(cons_label)\n",
    "    j = Ng_labels_full.index(ng_label)\n",
    "    c = colors[i*len(Ng_labels_full)+j]\n",
    "    #print(i,j,c)\n",
    "    return c\n",
    "\n",
    "def get_linestyle(prior_label):\n",
    "    if prior_label == prior_labels_full[0]:\n",
    "        return '-'\n",
    "    if prior_label == prior_labels_full[1]:\n",
    "        return '-.'\n",
    "    if prior_label == prior_labels_full[2]:\n",
    "        return ':'"
   ]
  },
  {
   "cell_type": "code",
   "execution_count": 118,
   "metadata": {},
   "outputs": [
    {
     "data": {
      "image/png": "[encoded data removed]",
      "text/plain": [
       "<Figure size 600x400 with 1 Axes>"
      ]
     },
     "metadata": {
      "needs_background": "light"
     },
     "output_type": "display_data"
    },
    {
     "data": {
      "image/png": "[encoded data removed]",
      "text/plain": [
       "<Figure size 600x400 with 1 Axes>"
      ]
     },
     "metadata": {
      "needs_background": "light"
     },
     "output_type": "display_data"
    }
   ],
   "source": [
    "for toshow in ['beta', 'alpha']:\n",
    "    ymax = 0.\n",
    "    if toshow == 'alpha':\n",
    "        slst = 'alst'\n",
    "        fixed = r'$\\beta$ fixed'\n",
    "        ylabel = r'$\\sigma_\\alpha$'\n",
    "        fname = 'sigma_alpha'+suffix\n",
    "\n",
    "    elif toshow == 'beta':\n",
    "        slst = 'blst'\n",
    "        fixed = r'$\\alpha$ fixed'\n",
    "        ylabel = r'$\\sigma_\\beta$'\n",
    "        fname = 'sigma_beta'+suffix\n",
    "\n",
    "    if toshow == 'beta':\n",
    "        matplotlib.rcParams['ytick.right'] = False\n",
    "\n",
    "\n",
    "    #fig, ax = plt.subplots(figsize=(15, 10))\n",
    "    fig = plt.figure(figsize=(6, 4))\n",
    "    ax = fig.add_subplot(111)\n",
    "    #ax.set_prop_cycle(color=[cm(1.*i/NUM_COLORS) for i in range(NUM_COLORS)])\n",
    "\n",
    "    if toshow == 'beta':\n",
    "        ax_r = ax.secondary_yaxis(\"right\", functions=(b2n, n2b))\n",
    "\n",
    "    for cons_label in cons_labels:\n",
    "        cons = conslst[cons_label]\n",
    "        for ng_label in Ng_labels:\n",
    "            c = get_color(cons_label, ng_label)\n",
    "            for prior_label in prior_labels:\n",
    "                if slst in sigma_labels:\n",
    "                    ls = get_linestyle(prior_label)\n",
    "                    ylst = cons[ng_label][prior_label][slst]\n",
    "                    if np.max(ylst) > ymax:\n",
    "                        ymax = np.max(ylst)\n",
    "                    plt.semilogy(zlst, ylst, label = cons_label+', '+ng_label+', '+prior_label, ls=ls, c=c)\n",
    "    ax.set_ylim((None, 1))\n",
    "    ax.legend(loc='upper right', ncol=2)\n",
    "    ax.set_xlabel(r'$z_{\\rm max}$')\n",
    "    ax.set_ylabel(ylabel)\n",
    "    if toshow == 'beta':\n",
    "        ax_r.set_ylabel(r'$\\sigma_N$')\n",
    "    #ax.set_ylim(0,1.2)\n",
    "    plt.savefig(fname, bbox_inches='tight')\n",
    "    plt.show()\n",
    "    if toshow == 'beta':\n",
    "        matplotlib.rcParams['ytick.right'] = True\n",
    "    plt.close()"
   ]
  },
  {
   "cell_type": "code",
   "execution_count": null,
   "metadata": {},
   "outputs": [],
   "source": []
  },
  {
   "cell_type": "code",
   "execution_count": null,
   "metadata": {},
   "outputs": [],
   "source": []
  },
  {
   "cell_type": "code",
   "execution_count": null,
   "metadata": {},
   "outputs": [],
   "source": []
  }
 ],
 "metadata": {
  "kernelspec": {
   "display_name": "Python 3",
   "language": "python",
   "name": "python3"
  },
  "language_info": {
   "codemirror_mode": {
    "name": "ipython",
    "version": 3
   },
   "file_extension": ".py",
   "mimetype": "text/x-python",
   "name": "python",
   "nbconvert_exporter": "python",
   "pygments_lexer": "ipython3",
   "version": "3.7.3"
  }
 },
 "nbformat": 4,
 "nbformat_minor": 2
}
